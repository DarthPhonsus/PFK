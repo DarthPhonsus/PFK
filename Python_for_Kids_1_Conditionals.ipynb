{
  "nbformat": 4,
  "nbformat_minor": 0,
  "metadata": {
    "colab": {
      "name": "Python for Kids 1 - Conditionals.ipynb",
      "provenance": [],
      "collapsed_sections": []
    },
    "kernelspec": {
      "name": "python3",
      "display_name": "Python 3"
    }
  },
  "cells": [
    {
      "cell_type": "markdown",
      "metadata": {
        "id": "2s4SdQVjXvNB",
        "colab_type": "text"
      },
      "source": [
        "## Conditionals\n"
      ]
    },
    {
      "cell_type": "markdown",
      "metadata": {
        "id": "clwFPzpTX1kv",
        "colab_type": "text"
      },
      "source": [
        "Relational Operators\n",
        "* Used for logic or making decisions\n",
        "* Checks relationship among variables/operands\n",
        "* Boolean\n",
        "* True - 1\n",
        "* False - 0\n"
      ]
    },
    {
      "cell_type": "markdown",
      "metadata": {
        "id": "Yq7VUFwtY65z",
        "colab_type": "text"
      },
      "source": [
        "Equals:\n",
        " - checks if equals to each other \n",
        "```\n",
        "num1 == num2\n",
        "```\n",
        "\n",
        "\n",
        "Greater Than:\n",
        " - Checks if num1 is greater than num2\n",
        "```\n",
        "num1 > num2\n",
        "```\n",
        "\n",
        "\n",
        "Less Than:  \n",
        " - Checks if num1 is less than num2\n",
        "```\n",
        "num1 < num2\n",
        "```\n",
        "\n",
        "Not Equals:\n",
        " - Checks if num1 is not equal to num2\n",
        "```\n",
        "num1 != num2\n",
        "```\n",
        "\n",
        "\n",
        "\n",
        "\n",
        "\n",
        "\n",
        "\n"
      ]
    },
    {
      "cell_type": "code",
      "metadata": {
        "id": "Y07Xx1ShZtOq",
        "colab_type": "code",
        "colab": {
          "base_uri": "https://localhost:8080/",
          "height": 35
        },
        "outputId": "0010c2d5-95de-4a93-f305-1842d660ac82"
      },
      "source": [
        "5 < 7"
      ],
      "execution_count": null,
      "outputs": [
        {
          "output_type": "execute_result",
          "data": {
            "text/plain": [
              "True"
            ]
          },
          "metadata": {
            "tags": []
          },
          "execution_count": 26
        }
      ]
    },
    {
      "cell_type": "code",
      "metadata": {
        "id": "1T1zgXZQZvkK",
        "colab_type": "code",
        "colab": {
          "base_uri": "https://localhost:8080/",
          "height": 35
        },
        "outputId": "129b652b-8530-451e-d2b3-140d8f15436a"
      },
      "source": [
        "90 == 40 + 50"
      ],
      "execution_count": null,
      "outputs": [
        {
          "output_type": "execute_result",
          "data": {
            "text/plain": [
              "True"
            ]
          },
          "metadata": {
            "tags": []
          },
          "execution_count": 24
        }
      ]
    },
    {
      "cell_type": "code",
      "metadata": {
        "id": "_TvK2yOIXQd4",
        "colab_type": "code",
        "colab": {
          "base_uri": "https://localhost:8080/",
          "height": 121
        },
        "outputId": "05b81018-718c-4ba5-baa2-abe0426dffb0"
      },
      "source": [
        "variable1 = 5\n",
        "variable2 = 3\n",
        "\n",
        "# Equal To\n",
        "print(\"%s is equal to %s:\" % (variable1, variable2), variable1 == variable2 )\n",
        "\n",
        "# Greater Than\n",
        "print(\"%s is greater than %s:\" % (variable1, variable2), variable1 > variable2)\n",
        "\n",
        "# Less Than\n",
        "print(\"%s is less than %s:\" % (variable1, variable2), variable1 < variable2)\n",
        "\n",
        "# Not Equal To\n",
        "print(\"%s is not equal to %s:\" % (variable1, variable2), variable1 != variable2)\n",
        "\n",
        "# Greater Than or Equal To\n",
        "print(\"%s is greater than or equal to %s:\" % (variable1, variable2), variable1 >= variable2)\n",
        "\n",
        "# Less Than or Equal To\n",
        "print(\"%s is less than or equal to %s:\" % (variable1, variable2), variable1 <= variable2)"
      ],
      "execution_count": null,
      "outputs": [
        {
          "output_type": "stream",
          "text": [
            "5 is equal to 3: False\n",
            "5 is greater than 3: True\n",
            "5 is less than 3: False\n",
            "5 is not equal to 3: True\n",
            "5 is greater than or equal to 3: True\n",
            "5 is less than or equal to 3: False\n"
          ],
          "name": "stdout"
        }
      ]
    },
    {
      "cell_type": "markdown",
      "metadata": {
        "id": "SB6l5ihgaMYS",
        "colab_type": "text"
      },
      "source": [
        "Bonus Exercise: Try creating your own code that compares two numbers together "
      ]
    },
    {
      "cell_type": "code",
      "metadata": {
        "id": "bfX9Ma6TY4ZB",
        "colab_type": "code",
        "colab": {}
      },
      "source": [
        ""
      ],
      "execution_count": null,
      "outputs": []
    },
    {
      "cell_type": "markdown",
      "metadata": {
        "id": "K8HAWnIfaT0k",
        "colab_type": "text"
      },
      "source": [
        "## If Statement"
      ]
    },
    {
      "cell_type": "markdown",
      "metadata": {
        "id": "t4sqdAj7aZb8",
        "colab_type": "text"
      },
      "source": [
        "* Code block that is below the `if statement` will run if it is true\n",
        "* Take note of indents (tab space) and syntax\n",
        "* Used in answering questions like:\n",
        "1. Are you older than 18?\n",
        "2. Did you pass the exam?\n",
        "\n"
      ]
    },
    {
      "cell_type": "markdown",
      "metadata": {
        "id": "Uuv5ZrgOarMJ",
        "colab_type": "text"
      },
      "source": [
        "Note about the input function:\n",
        " - When we receive our user's answers using the input function, this answer gets stored as a string (letters and words)\n",
        " - so if we want to perform mathematical operations on this answer, we need to convert this string to an integer"
      ]
    },
    {
      "cell_type": "code",
      "metadata": {
        "id": "Nb9NY5ArbO69",
        "colab_type": "code",
        "colab": {
          "base_uri": "https://localhost:8080/",
          "height": 238
        },
        "outputId": "69416b2f-93fd-4820-8015-a3fa2d31446d"
      },
      "source": [
        "#Wrong code\n",
        "fave_num = input(\"What is your favorite number\")\n",
        "print(\"Your favorite number added by 2 is:\", fave_num + 2)"
      ],
      "execution_count": null,
      "outputs": [
        {
          "output_type": "stream",
          "text": [
            "What is your favorite number6\n"
          ],
          "name": "stdout"
        },
        {
          "output_type": "error",
          "ename": "TypeError",
          "evalue": "ignored",
          "traceback": [
            "\u001b[0;31m---------------------------------------------------------------------------\u001b[0m",
            "\u001b[0;31mTypeError\u001b[0m                                 Traceback (most recent call last)",
            "\u001b[0;32m<ipython-input-29-d6cd35e3fe4e>\u001b[0m in \u001b[0;36m<module>\u001b[0;34m()\u001b[0m\n\u001b[1;32m      1\u001b[0m \u001b[0;31m#Wrong code\u001b[0m\u001b[0;34m\u001b[0m\u001b[0;34m\u001b[0m\u001b[0;34m\u001b[0m\u001b[0m\n\u001b[1;32m      2\u001b[0m \u001b[0mfave_num\u001b[0m \u001b[0;34m=\u001b[0m \u001b[0minput\u001b[0m\u001b[0;34m(\u001b[0m\u001b[0;34m\"What is your favorite number\"\u001b[0m\u001b[0;34m)\u001b[0m\u001b[0;34m\u001b[0m\u001b[0;34m\u001b[0m\u001b[0m\n\u001b[0;32m----> 3\u001b[0;31m \u001b[0mprint\u001b[0m\u001b[0;34m(\u001b[0m\u001b[0;34m\"Your favorite number added by 2 is:\"\u001b[0m\u001b[0;34m,\u001b[0m \u001b[0mfave_num\u001b[0m \u001b[0;34m+\u001b[0m \u001b[0;36m2\u001b[0m\u001b[0;34m)\u001b[0m\u001b[0;34m\u001b[0m\u001b[0;34m\u001b[0m\u001b[0m\n\u001b[0m",
            "\u001b[0;31mTypeError\u001b[0m: must be str, not int"
          ]
        }
      ]
    },
    {
      "cell_type": "code",
      "metadata": {
        "id": "jJ9fnJcPaWUx",
        "colab_type": "code",
        "colab": {
          "base_uri": "https://localhost:8080/",
          "height": 72
        },
        "outputId": "7e532f02-a208-43d3-a473-9bf942ff61ae"
      },
      "source": [
        "#Correct code\n",
        "fave_num = input(\"What is your favorite number\")\n",
        "fave_num = int(fave_num)\n",
        "print(\"Your favorite number added by 2 is:\", fave_num + 2)"
      ],
      "execution_count": null,
      "outputs": [
        {
          "output_type": "stream",
          "text": [
            "What is your favorite number6\n",
            "Your favorite number added by 2 is: 8\n"
          ],
          "name": "stdout"
        }
      ]
    },
    {
      "cell_type": "code",
      "metadata": {
        "id": "TAKn9GsQbWbr",
        "colab_type": "code",
        "colab": {
          "base_uri": "https://localhost:8080/",
          "height": 107
        },
        "outputId": "a5f0d4b1-6f38-4822-f366-fb1c94a8371b"
      },
      "source": [
        "age = input(\"What is your age? > \")\n",
        "age = int(age)  # We have to convert out string to an integer\n",
        "\n",
        "print(\"Is your age above 18?\")\n",
        "\n",
        "if age > 18:\n",
        "  print(\"Answer is Yes\")        #this is part of a block (take note of the indent)\n",
        "  print(\"You are an adult\")     #this is part of a block (take note of the indent)\n",
        "  #You can add more lines here\n",
        "  #Python is indent or space sensitive"
      ],
      "execution_count": null,
      "outputs": [
        {
          "output_type": "stream",
          "text": [
            "What is your age? > 20\n",
            "Is your age above 18?\n",
            "Answer is Yes\n",
            "You are an adult\n"
          ],
          "name": "stdout"
        }
      ]
    },
    {
      "cell_type": "markdown",
      "metadata": {
        "id": "eBXXd8FBdRmU",
        "colab_type": "text"
      },
      "source": [
        "## Else Statement\n",
        "* Code block below else statement will run when if statement is false\n",
        "* Take note of indents (tab space) and syntax\n",
        "* Used in answering questions like:\n",
        "1. What if not older than 18?\n",
        "2. What if fail score?"
      ]
    },
    {
      "cell_type": "code",
      "metadata": {
        "id": "gn6_SVuxbjcp",
        "colab_type": "code",
        "colab": {
          "base_uri": "https://localhost:8080/",
          "height": 89
        },
        "outputId": "96e1b958-10c1-464d-cbe6-dbaee5c28841"
      },
      "source": [
        "age = input(\"What is your age? > \")\n",
        "age = int(age)  #Be sure to convert to an integer first\n",
        "\n",
        "print(\"Is your age above 18?\")\n",
        "\n",
        "if age > 18:  #Take note of colon\n",
        "  print(\"Answer is Yes\") #take note of indent\n",
        "\n",
        "else:   #Take note of colo\n",
        "  print(\"Answer is No\") #take note of indent"
      ],
      "execution_count": null,
      "outputs": [
        {
          "output_type": "stream",
          "text": [
            "What is your age? > 13\n",
            "Is your age above 18?\n",
            "Answer is No\n"
          ],
          "name": "stdout"
        }
      ]
    },
    {
      "cell_type": "markdown",
      "metadata": {
        "id": "FF7joc0xeLsk",
        "colab_type": "text"
      },
      "source": [
        "Another example using test scores:"
      ]
    },
    {
      "cell_type": "code",
      "metadata": {
        "id": "uYLfPT_oeOv0",
        "colab_type": "code",
        "colab": {}
      },
      "source": [
        "score = input(\"What is your score? > \")\n",
        "score = int(score) \n",
        "\n",
        "if score > 75:\n",
        "  print(\"Congratulations!\")        #this is part of the if block (take note of the indent)\n",
        "  print(\"You passed the test\")     #this is part of the if block (take note of the indent)\n",
        "  #You can add more lines here as long as same indent\n",
        "\n",
        "else:\n",
        "  print(\"Sorry\")                 #this is part of the else block (take note of the indent)\n",
        "  print(\"You failed the exam\")   #this is part of the else block (take note of the indent)\n",
        "  #You can add more lines here as long as same indent"
      ],
      "execution_count": null,
      "outputs": []
    },
    {
      "cell_type": "markdown",
      "metadata": {
        "id": "pcfTfEjjeYra",
        "colab_type": "text"
      },
      "source": [
        "Multiple if-else statements in one code:"
      ]
    },
    {
      "cell_type": "code",
      "metadata": {
        "id": "ISYR86k5eQ_Y",
        "colab_type": "code",
        "colab": {}
      },
      "source": [
        "score = input(\"What is your score? > \")\n",
        "score = int(score) \n",
        "\n",
        "if score > 75:\n",
        "  print(\"Congratulations!\")        #this is part of the if block (take note of the indent)\n",
        "  print(\"You passed the test\")     #this is part of the if block (take note of the indent)\n",
        "  #You can add more lines here as long as same indent\n",
        "  if score > 90:\n",
        "    print(\"You did really well!\")\n",
        "  if score < 80:\n",
        "    print(\"You just barely passed!\")\n",
        "\n",
        "else:\n",
        "  print(\"Sorry\")                 #this is part of the else block (take note of the indent)\n",
        "  print(\"You failed the exam\")   #this is part of the else block (take note of the indent)\n",
        "  if score < 50:\n",
        "    print(\"You need to study some more!\")\n",
        "  #You can add more lines here as long as same indent"
      ],
      "execution_count": null,
      "outputs": []
    },
    {
      "cell_type": "markdown",
      "metadata": {
        "id": "1LK_a9tYfB6X",
        "colab_type": "text"
      },
      "source": [
        "Bonus Exercises\n",
        "1. Make a program that accepts 2 numbers as input from the user, then checks if they are equal\n",
        "* (Ex. Input: 3 and 5, Output: \"Not equal!\")\n",
        "* (Ex. Input: 3 and 5, Output: \"Equal!\")"
      ]
    },
    {
      "cell_type": "code",
      "metadata": {
        "id": "sSj833DBetR4",
        "colab_type": "code",
        "colab": {
          "base_uri": "https://localhost:8080/",
          "height": 89
        },
        "outputId": "f24b98c7-0df4-4130-8ded-6dcea81d7626"
      },
      "source": [
        "variable1= input(\"Put a random number:\")\n",
        "variable1= int(variable1)\n",
        "\n",
        "variable2= input(\"Put another random number:\")\n",
        "variable2= int(variable2)\n",
        "\n",
        "if variable1 == variable2:\n",
        "  print(f\"{variable1} is equal to {variable2}\")\n",
        "\n",
        "else:\n",
        "  print(f\"{variable1} is not equal to {variable2}\")"
      ],
      "execution_count": null,
      "outputs": [
        {
          "output_type": "stream",
          "text": [
            "Put a random number:4\n",
            "Put another random number:10\n",
            "4 is not equal to 10\n"
          ],
          "name": "stdout"
        }
      ]
    },
    {
      "cell_type": "markdown",
      "metadata": {
        "id": "ef2eJ06Yj1Eq",
        "colab_type": "text"
      },
      "source": [
        "2. Make a program that accepts 2 numbers as input from the user, then check if one is greater than or less than the other number\n",
        "* (Ex. Input: 3 and 5, Output: \"3 is less than 5\")\n",
        "* (Ex. Input: 5 and 3, Output: \"5 is greater than 3\")"
      ]
    },
    {
      "cell_type": "code",
      "metadata": {
        "id": "E7EF3Xcbj3bO",
        "colab_type": "code",
        "colab": {
          "base_uri": "https://localhost:8080/",
          "height": 89
        },
        "outputId": "406050a3-4f77-45c0-a0e9-46cca39bc7b6"
      },
      "source": [
        "variable1= input(\"Put a random number:\")\n",
        "variable1= int(variable1)\n",
        "\n",
        "variable2= input(\"Put another random number:\")\n",
        "variable2= int(variable2)\n",
        "\n",
        "if variable1 > variable2:\n",
        "  print(f\"{variable1} is greater than {variable2}\")\n",
        "\n",
        "if variable1 < variable2:\n",
        "  print(f\"{variable1} is less than {variable2}\")"
      ],
      "execution_count": null,
      "outputs": [
        {
          "output_type": "stream",
          "text": [
            "Put a random number:7\n",
            "Put another random number:8\n",
            "7 is less than 8\n"
          ],
          "name": "stdout"
        }
      ]
    },
    {
      "cell_type": "markdown",
      "metadata": {
        "id": "dhQKWoTyk5lV",
        "colab_type": "text"
      },
      "source": [
        "## elif statement (else if)\n",
        "*   Always in between if and else statements\n",
        "*   Stricter conditioning\n",
        "\n"
      ]
    },
    {
      "cell_type": "code",
      "metadata": {
        "id": "4t27auFhk85d",
        "colab_type": "code",
        "colab": {
          "base_uri": "https://localhost:8080/",
          "height": 72
        },
        "outputId": "08757a6b-09cc-4242-f780-0fc169494ad7"
      },
      "source": [
        "# Using elif to determine if number is greater than or less than 10\n",
        "input_number = input(\"Please input any number: \")\n",
        "input_number = int(input_number)\n",
        "\n",
        "if input_number > 10:\n",
        "  print(\"number is greater than 10\")\n",
        "\n",
        "elif input_number < 10:\n",
        "  print(\"number is less than 10\")"
      ],
      "execution_count": null,
      "outputs": [
        {
          "output_type": "stream",
          "text": [
            "Please input any number: 8\n",
            "number is less than 10\n"
          ],
          "name": "stdout"
        }
      ]
    },
    {
      "cell_type": "markdown",
      "metadata": {
        "id": "1gJ9da5bqmhb",
        "colab_type": "text"
      },
      "source": [
        "Using multiple if statements vs using if-elif\n",
        "* elif will only run if the first **`if`** statement isn't true\n",
        "* Multiple if statements will always check if the statement is true"
      ]
    },
    {
      "cell_type": "code",
      "metadata": {
        "id": "AN79h6XXqrB5",
        "colab_type": "code",
        "colab": {
          "base_uri": "https://localhost:8080/",
          "height": 35
        },
        "outputId": "58e7eea7-4678-4f87-efe9-77e83c09f67c"
      },
      "source": [
        "age = 15\n",
        "money = 50\n",
        "if age > 18:\n",
        "  print(\"You are an adult\")\n",
        "elif money > 0:\n",
        "  print(\"You have money\")"
      ],
      "execution_count": null,
      "outputs": [
        {
          "output_type": "stream",
          "text": [
            "You have money\n"
          ],
          "name": "stdout"
        }
      ]
    },
    {
      "cell_type": "markdown",
      "metadata": {
        "id": "ODpsT5sQlG_0",
        "colab_type": "text"
      },
      "source": [
        "if-elif-else"
      ]
    },
    {
      "cell_type": "code",
      "metadata": {
        "id": "yGu9UjAMlC3x",
        "colab_type": "code",
        "colab": {
          "base_uri": "https://localhost:8080/",
          "height": 72
        },
        "outputId": "2b83d634-640b-4c74-8305-3406b67009da"
      },
      "source": [
        "# Using if-elif-else to determine if number is greater than, less than, or equal to 10\n",
        "input_number = input(\"Please input any number: \")\n",
        "number = int(input_number)\n",
        "\n",
        "if number > 10:\n",
        "  print(\"number is greater than 10\")\n",
        "\n",
        "elif number < 10:\n",
        "  print(\"numbers is less than 10\")\n",
        "else:\n",
        "  print(\"number is 10\")"
      ],
      "execution_count": null,
      "outputs": [
        {
          "output_type": "stream",
          "text": [
            "Please input any number: 10\n",
            "number is 10\n"
          ],
          "name": "stdout"
        }
      ]
    },
    {
      "cell_type": "markdown",
      "metadata": {
        "id": "g1bMFmgCleyG",
        "colab_type": "text"
      },
      "source": [
        "Combining conditions\n",
        "\n",
        "\n",
        "*   We can only relate two variables at one time\n",
        "*   We use \"or\" and \"and\" to combine conditions/relations\n",
        "\n"
      ]
    },
    {
      "cell_type": "code",
      "metadata": {
        "id": "ku3UzkFRlJFF",
        "colab_type": "code",
        "colab": {
          "base_uri": "https://localhost:8080/",
          "height": 107
        },
        "outputId": "f07a6a09-a2be-4031-c6a6-138c1de9d4ae"
      },
      "source": [
        "# if-else example\n",
        "print(\"Only students with blue hat and red boots can enter!\")\n",
        "hat_color = input(\"What is the color of your hat?\")\n",
        "boots_color = input(\"What is the color of your boots?\")\n",
        "\n",
        "if hat_color == \"blue\" and boots_color == \"red\":\n",
        "  print(\"You may enter\")\n",
        "\n",
        "else:\n",
        "  print(\"You may not enter\")\n",
        "\n"
      ],
      "execution_count": null,
      "outputs": [
        {
          "output_type": "stream",
          "text": [
            "Only students with blue hat and red boots can enter!\n",
            "What is the color of your hat?blue\n",
            "What is the color of your boots?red\n",
            "You may enter\n"
          ],
          "name": "stdout"
        }
      ]
    },
    {
      "cell_type": "code",
      "metadata": {
        "id": "CdxfcPlUln6X",
        "colab_type": "code",
        "colab": {}
      },
      "source": [
        "# if-elif-else example\n",
        "age = 14\n",
        "gender = \"Female\"\n",
        "parents_permission = \"No\"\n",
        "\n",
        "if age == 18 and gender == \"Female\" and parents_permission == \"Yes\":\n",
        "  print(\"Time for a debut\")\n",
        "\n",
        "elif age == 18 and gender == \"Male\" and parents_permission == \"Yes\":\n",
        "  print(\"Time to party!\")\n",
        "\n",
        "elif age == 14:\n",
        "  print(\"See you in 4 years\")\n",
        "\n",
        "else:\n",
        "  print(\"No party\")"
      ],
      "execution_count": null,
      "outputs": []
    },
    {
      "cell_type": "markdown",
      "metadata": {
        "id": "wNteQx-Il7D9",
        "colab_type": "text"
      },
      "source": [
        "Bonus Exercises:\n",
        "1. Check if a number is negative, positive, or zero\n",
        "\n",
        "\n"
      ]
    },
    {
      "cell_type": "markdown",
      "metadata": {
        "id": "gTT2sU6DpRSz",
        "colab_type": "text"
      },
      "source": [
        ""
      ]
    },
    {
      "cell_type": "code",
      "metadata": {
        "id": "m3lwnINol3Io",
        "colab_type": "code",
        "colab": {
          "base_uri": "https://localhost:8080/",
          "height": 52
        },
        "outputId": "40843b33-9586-4b15-9288-e84b09b5e21b"
      },
      "source": [
        "number = input(\"number\")\n",
        "number = int(number)\n",
        "if number > 0:\n",
        "  print(\"positive\")\n",
        "elif number < 0:\n",
        "  print(\"negative\")\n",
        "else:\n",
        "  print(\"number is zero\")"
      ],
      "execution_count": null,
      "outputs": [
        {
          "output_type": "stream",
          "text": [
            "number0\n",
            "number is zero\n"
          ],
          "name": "stdout"
        }
      ]
    },
    {
      "cell_type": "markdown",
      "metadata": {
        "id": "XnSgxisBl_5t",
        "colab_type": "text"
      },
      "source": [
        "2. Check if a number is between 0 to 10"
      ]
    },
    {
      "cell_type": "code",
      "metadata": {
        "id": "2G3AqFBymEj3",
        "colab_type": "code",
        "colab": {
          "base_uri": "https://localhost:8080/",
          "height": 52
        },
        "outputId": "06583a18-b084-44ca-e1cf-5a4d47b86e76"
      },
      "source": [
        "number = input(\"number\")\n",
        "number = int(number)\n",
        "if number < 10 and number > 0:\n",
        "  print(\"between 0 and 10\")\n",
        "else:\n",
        "  print(\"not between 0 and 10\")"
      ],
      "execution_count": null,
      "outputs": [
        {
          "output_type": "stream",
          "text": [
            "number-100000000000\n",
            "not between 0 and 10\n"
          ],
          "name": "stdout"
        }
      ]
    },
    {
      "cell_type": "markdown",
      "metadata": {
        "id": "ea6HNvUImH0b",
        "colab_type": "text"
      },
      "source": [
        "3. Check if the student is wearing a green hat or orange shoes\n",
        "\n"
      ]
    },
    {
      "cell_type": "code",
      "metadata": {
        "id": "fP7vQn0imID7",
        "colab_type": "code",
        "colab": {}
      },
      "source": [
        ""
      ],
      "execution_count": null,
      "outputs": []
    },
    {
      "cell_type": "markdown",
      "metadata": {
        "id": "ZimsV1-lpTUF",
        "colab_type": "text"
      },
      "source": [
        "4. Check if a letter is a consonant or vowel. If it's a vowel, print the following:\n",
        "* \"A\"/\"a\" - print Apple\n",
        "* \"E\"/\"e\" - print Elephant\n",
        "* \"I\"/\"i\" - print Indigo\n",
        "* \"O\"/\"o\" - print Octopus\n",
        "* \"U\"/\"u\" - print Uniform\n"
      ]
    },
    {
      "cell_type": "code",
      "metadata": {
        "id": "8ee4_c1rpUUa",
        "colab_type": "code",
        "colab": {}
      },
      "source": [
        ""
      ],
      "execution_count": null,
      "outputs": []
    }
  ]
}