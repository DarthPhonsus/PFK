{
  "nbformat": 4,
  "nbformat_minor": 0,
  "metadata": {
    "colab": {
      "name": "Python for Kids 2 - Day 4.ipynb",
      "provenance": [],
      "collapsed_sections": []
    },
    "kernelspec": {
      "name": "python3",
      "display_name": "Python 3"
    }
  },
  "cells": [
    {
      "cell_type": "code",
      "metadata": {
        "id": "1PHT5ozmV5OR",
        "colab_type": "code",
        "colab": {}
      },
      "source": [
        ""
      ],
      "execution_count": 1,
      "outputs": []
    },
    {
      "cell_type": "markdown",
      "metadata": {
        "id": "IGNtGKhqWX6K",
        "colab_type": "text"
      },
      "source": [
        "![alt text](https://pxt.azureedge.net/blob/e644eb8aa2a44b1732aca811f598ab695b43420a/static/courses/csintro/algorithms/inputs-process-outputs.png)"
      ]
    },
    {
      "cell_type": "markdown",
      "metadata": {
        "id": "aXbGUoKNWsIQ",
        "colab_type": "text"
      },
      "source": [
        "# Functions"
      ]
    },
    {
      "cell_type": "markdown",
      "metadata": {
        "id": "65Mt2NqAWvZz",
        "colab_type": "text"
      },
      "source": [
        "- Block of code which only runs when it is called.\n",
        "- Can pass data, known as parameters, into a function.\n",
        "- Can return data as a result.\n"
      ]
    },
    {
      "cell_type": "code",
      "metadata": {
        "id": "gVVRixa0WGao",
        "colab_type": "code",
        "colab": {}
      },
      "source": [
        "def test_function():\n",
        "  print(\"This is a test function\")\n",
        "\n",
        "# def = define\n"
      ],
      "execution_count": null,
      "outputs": []
    },
    {
      "cell_type": "code",
      "metadata": {
        "id": "2XM99cugXNyT",
        "colab_type": "code",
        "colab": {}
      },
      "source": [
        ""
      ],
      "execution_count": null,
      "outputs": []
    },
    {
      "cell_type": "code",
      "metadata": {
        "id": "SHtzNX35XRCP",
        "colab_type": "code",
        "colab": {}
      },
      "source": [
        "def trial(parameter1, parameter2):\n",
        "  print(f\"This is a trial function: The input parameters are {parameter1} and {parameter2}\")"
      ],
      "execution_count": null,
      "outputs": []
    },
    {
      "cell_type": "code",
      "metadata": {
        "id": "E6I15RD3Xm9F",
        "colab_type": "code",
        "colab": {}
      },
      "source": [
        ""
      ],
      "execution_count": null,
      "outputs": []
    },
    {
      "cell_type": "markdown",
      "metadata": {
        "id": "Z1V5cMRraw4r",
        "colab_type": "text"
      },
      "source": [
        "Let's create a function that will print out a person's full name"
      ]
    },
    {
      "cell_type": "code",
      "metadata": {
        "id": "RI-jVoYfXpRY",
        "colab_type": "code",
        "colab": {}
      },
      "source": [
        "def print_name(firstname, lastname):\n",
        "  print(f\"Hello! My full name is {firstname} {lastname}\")"
      ],
      "execution_count": null,
      "outputs": []
    },
    {
      "cell_type": "code",
      "metadata": {
        "id": "yIHz5AYra0-N",
        "colab_type": "code",
        "colab": {}
      },
      "source": [
        "print_name(\"Taylor\", \"Swift\")\n",
        "print_name(\"Harry\", \"Potter\")"
      ],
      "execution_count": null,
      "outputs": []
    },
    {
      "cell_type": "markdown",
      "metadata": {
        "id": "Mb0676p0bCJ_",
        "colab_type": "text"
      },
      "source": [
        "We can add as many parameters as we want:"
      ]
    },
    {
      "cell_type": "code",
      "metadata": {
        "id": "2Cmyv8d6a6rx",
        "colab_type": "code",
        "colab": {}
      },
      "source": [
        "def add_parameters(num1, num2, num3, num4, num5):\n",
        "  print(num1 + num2 + num3 + num4 + num5)"
      ],
      "execution_count": null,
      "outputs": []
    },
    {
      "cell_type": "code",
      "metadata": {
        "id": "S1p6Z6jSbMdq",
        "colab_type": "code",
        "colab": {}
      },
      "source": [
        "add_parameters(4, 3, 2, 1, 1)"
      ],
      "execution_count": null,
      "outputs": []
    },
    {
      "cell_type": "markdown",
      "metadata": {
        "id": "saqPsptGbadP",
        "colab_type": "text"
      },
      "source": [
        "We can also have default values for the parameters in our function. This means that if we don't specify the parameters, then this value will be the parameter."
      ]
    },
    {
      "cell_type": "code",
      "metadata": {
        "id": "kxIcp_vVbOyx",
        "colab_type": "code",
        "colab": {}
      },
      "source": [
        "def write_greeting(greeting = \"Hello\"):\n",
        "  print(greeting)"
      ],
      "execution_count": null,
      "outputs": []
    },
    {
      "cell_type": "code",
      "metadata": {
        "id": "g7WDvIS_bx9d",
        "colab_type": "code",
        "colab": {}
      },
      "source": [
        "write_greeting()"
      ],
      "execution_count": null,
      "outputs": []
    },
    {
      "cell_type": "code",
      "metadata": {
        "id": "9MgNvNWybzbZ",
        "colab_type": "code",
        "colab": {}
      },
      "source": [
        "write_greeting(\"Hey everyone\")"
      ],
      "execution_count": null,
      "outputs": []
    },
    {
      "cell_type": "code",
      "metadata": {
        "id": "Pdw7lz7Ib1Kf",
        "colab_type": "code",
        "colab": {}
      },
      "source": [
        "# Creating a function with parameters (default value)\n",
        "def print_name(firstname = \"Not available\", lastname = \"Not available\"):\n",
        "\n",
        "  if firstname == \"Not available\" or lastname == \"Not available\":\n",
        "    print(\"Please give the first name and the last name\") \n",
        "\n",
        "  else:\n",
        "    print(f\"Hello! My full name is {firstname} {lastname}\")\n"
      ],
      "execution_count": null,
      "outputs": []
    },
    {
      "cell_type": "code",
      "metadata": {
        "id": "gmjx9nv2cBNJ",
        "colab_type": "code",
        "colab": {}
      },
      "source": [
        "print_name(\"Ron\", \"Weasley\")"
      ],
      "execution_count": null,
      "outputs": []
    },
    {
      "cell_type": "code",
      "metadata": {
        "id": "-GQSGL3FcGEa",
        "colab_type": "code",
        "colab": {}
      },
      "source": [
        "print_name()"
      ],
      "execution_count": null,
      "outputs": []
    },
    {
      "cell_type": "markdown",
      "metadata": {
        "id": "MWcc5vHucN_X",
        "colab_type": "text"
      },
      "source": [
        "We can also have a function \"return\" a value. This means that it will store that value. Think of it similar to how we store the value of the input() function inside a variable "
      ]
    },
    {
      "cell_type": "code",
      "metadata": {
        "id": "mu262gjBcIgU",
        "colab_type": "code",
        "colab": {}
      },
      "source": [
        "name = input(\"Give me your name\")"
      ],
      "execution_count": null,
      "outputs": []
    },
    {
      "cell_type": "code",
      "metadata": {
        "id": "sXpQ5HYYfwdn",
        "colab_type": "code",
        "colab": {}
      },
      "source": [
        "print(name)"
      ],
      "execution_count": null,
      "outputs": []
    },
    {
      "cell_type": "code",
      "metadata": {
        "id": "AHnFA4EDfy6X",
        "colab_type": "code",
        "colab": {}
      },
      "source": [
        "# Creating a function with return values\n",
        "def get_sum(number1, number2):\n",
        "  sum = number1 + number2\n",
        "  return sum\n",
        "\n",
        "\n"
      ],
      "execution_count": null,
      "outputs": []
    },
    {
      "cell_type": "code",
      "metadata": {
        "id": "0SXjFD1allGn",
        "colab_type": "code",
        "colab": {}
      },
      "source": [
        "get_sum(5, 10)"
      ],
      "execution_count": null,
      "outputs": []
    },
    {
      "cell_type": "code",
      "metadata": {
        "id": "irKTEbTMlnCG",
        "colab_type": "code",
        "colab": {}
      },
      "source": [
        "sum = get_sum(10, 10)"
      ],
      "execution_count": null,
      "outputs": []
    },
    {
      "cell_type": "code",
      "metadata": {
        "id": "xLvbQWqClqbq",
        "colab_type": "code",
        "colab": {}
      },
      "source": [
        "print(sum)"
      ],
      "execution_count": null,
      "outputs": []
    },
    {
      "cell_type": "code",
      "metadata": {
        "id": "SqqLnVU9lrde",
        "colab_type": "code",
        "colab": {}
      },
      "source": [
        "#This function will return the sum of all the numbers inside a list\n",
        "\n",
        "def get_sum_list(list):\n",
        "  total = 0\n",
        "  for num in list:\n",
        "    total += num\n",
        "  return total"
      ],
      "execution_count": null,
      "outputs": []
    },
    {
      "cell_type": "code",
      "metadata": {
        "id": "RpudmWEGqALS",
        "colab_type": "code",
        "colab": {}
      },
      "source": [
        "number_list = [4, 3, 2, 1]  # Create the list that we will use\n",
        "sum = get_sum_list(number_list)  # Store the value inside a variable called sum\n",
        "\n",
        "print(sum)"
      ],
      "execution_count": null,
      "outputs": []
    },
    {
      "cell_type": "markdown",
      "metadata": {
        "id": "r162c0hPqQp7",
        "colab_type": "text"
      },
      "source": [
        "Exercises:"
      ]
    },
    {
      "cell_type": "markdown",
      "metadata": {
        "id": "vXjSY663qWqG",
        "colab_type": "text"
      },
      "source": [
        "1. Write a Python function to check if a number is negative or positive"
      ]
    },
    {
      "cell_type": "code",
      "metadata": {
        "id": "eDXLhH7wqMxU",
        "colab_type": "code",
        "colab": {}
      },
      "source": [
        ""
      ],
      "execution_count": null,
      "outputs": []
    },
    {
      "cell_type": "markdown",
      "metadata": {
        "id": "8b7_X_uprGwn",
        "colab_type": "text"
      },
      "source": [
        "2. Write a Python function that will print out mathematical operations between two numbers.\n",
        "\n",
        "(Will multiply, divide, add and subtract the numbers given)"
      ]
    },
    {
      "cell_type": "code",
      "metadata": {
        "id": "6dbiTjRFrWrT",
        "colab_type": "code",
        "colab": {}
      },
      "source": [
        ""
      ],
      "execution_count": null,
      "outputs": []
    },
    {
      "cell_type": "markdown",
      "metadata": {
        "id": "spXItdF4sKKk",
        "colab_type": "text"
      },
      "source": [
        "3. Write a Python function that counts the vowels in a given string"
      ]
    },
    {
      "cell_type": "code",
      "metadata": {
        "id": "3V9Eu5GssMxs",
        "colab_type": "code",
        "colab": {}
      },
      "source": [
        ""
      ],
      "execution_count": null,
      "outputs": []
    },
    {
      "cell_type": "markdown",
      "metadata": {
        "id": "mQ7W1SFGsRNS",
        "colab_type": "text"
      },
      "source": [
        "4. Write a Python function that gets the max number in a given list"
      ]
    },
    {
      "cell_type": "code",
      "metadata": {
        "id": "HuZKD4HNsTWt",
        "colab_type": "code",
        "colab": {}
      },
      "source": [
        ""
      ],
      "execution_count": null,
      "outputs": []
    },
    {
      "cell_type": "markdown",
      "metadata": {
        "id": "8VAPWo6wsX1J",
        "colab_type": "text"
      },
      "source": [
        "# Modules"
      ]
    },
    {
      "cell_type": "markdown",
      "metadata": {
        "id": "FNjP4eG5a9GP",
        "colab_type": "text"
      },
      "source": [
        "![alt text](https://cdn4.vectorstock.com/i/1000x1000/73/88/people-in-line-queue-borrowing-books-from-vector-24277388.jpg)"
      ]
    },
    {
      "cell_type": "markdown",
      "metadata": {
        "id": "CTK7aMJzseQ9",
        "colab_type": "text"
      },
      "source": [
        "* Consider a module to be the same as a code library.\n",
        "* A file containing a set of functions you want to include in your application.\n",
        "* Python has a bunch of modules created by other programmers that we can also use!\n"
      ]
    },
    {
      "cell_type": "markdown",
      "metadata": {
        "id": "8GsPBspstdZH",
        "colab_type": "text"
      },
      "source": [
        "One very useful example is the math module in Python: \n",
        "[Check it out here](https://www.w3schools.com/python/module_math.asp)"
      ]
    },
    {
      "cell_type": "code",
      "metadata": {
        "id": "FxLyxERcsZp9",
        "colab_type": "code",
        "colab": {}
      },
      "source": [
        "import math\n",
        "\n",
        "# The floor() function rounds a number downwards to the nearest integer, and returns the result\n",
        "floor = math.floor(4.3)\n",
        "print(floor)\n",
        "# The ceil() function rounds a number upwards to the nearest integer, and returns the result\n",
        "ceil = math.ceil(4.3)\n",
        "print(ceil)"
      ],
      "execution_count": null,
      "outputs": []
    },
    {
      "cell_type": "code",
      "metadata": {
        "id": "ibD01_64txsx",
        "colab_type": "code",
        "colab": {}
      },
      "source": [
        "math.pi"
      ],
      "execution_count": null,
      "outputs": []
    },
    {
      "cell_type": "markdown",
      "metadata": {
        "id": "54GhLmf4wDbG",
        "colab_type": "text"
      },
      "source": [
        "This is the [Random Module](https://www.w3schools.com/python/module_random.asp)"
      ]
    },
    {
      "cell_type": "code",
      "metadata": {
        "id": "48iY9t85v-tc",
        "colab_type": "code",
        "colab": {}
      },
      "source": [
        "# This is the random module\n",
        "import random\n",
        "\n",
        "#\trandom() returns a random float number between 0 and 1\n",
        "\n",
        "num = random.random() \n",
        "print(num)\n",
        "\n",
        "# randint() returns a random number between the given range\n",
        "\n",
        "num = random.randint(0, 10)\n",
        "print(num)"
      ],
      "execution_count": null,
      "outputs": []
    },
    {
      "cell_type": "markdown",
      "metadata": {
        "id": "UPYrMm-owo-t",
        "colab_type": "text"
      },
      "source": [
        "You can also rename modules so that it's easier or quicker to use for you."
      ]
    },
    {
      "cell_type": "code",
      "metadata": {
        "id": "J6zorOqDvzs9",
        "colab_type": "code",
        "colab": {}
      },
      "source": [
        "import random as rand\n",
        "\n",
        "num = rand.randint(0, 10)\n",
        "print(num)"
      ],
      "execution_count": null,
      "outputs": []
    },
    {
      "cell_type": "code",
      "metadata": {
        "id": "cRVHcXrbwwnV",
        "colab_type": "code",
        "colab": {}
      },
      "source": [
        "import datetime as dt\n",
        "\n",
        "date_today = dt.date.today()\n",
        "print(date_today)"
      ],
      "execution_count": null,
      "outputs": []
    },
    {
      "cell_type": "code",
      "metadata": {
        "id": "kgBpYQzrxBDD",
        "colab_type": "code",
        "colab": {}
      },
      "source": [
        "date_now = dt.datetime.now()\n",
        "print(date_now)"
      ],
      "execution_count": null,
      "outputs": []
    },
    {
      "cell_type": "code",
      "metadata": {
        "id": "04Q-_W-HxENY",
        "colab_type": "code",
        "colab": {}
      },
      "source": [
        ""
      ],
      "execution_count": null,
      "outputs": []
    },
    {
      "cell_type": "markdown",
      "metadata": {
        "id": "c2jj7ottxWvH",
        "colab_type": "text"
      },
      "source": [
        "Exercises:\n"
      ]
    },
    {
      "cell_type": "markdown",
      "metadata": {
        "id": "DgWYEmgixjcT",
        "colab_type": "text"
      },
      "source": [
        "1. Print out a random float between 0 and 10"
      ]
    },
    {
      "cell_type": "code",
      "metadata": {
        "id": "GbuD_OFgxo0T",
        "colab_type": "code",
        "colab": {}
      },
      "source": [
        ""
      ],
      "execution_count": null,
      "outputs": []
    },
    {
      "cell_type": "markdown",
      "metadata": {
        "id": "NsExqXoexZK5",
        "colab_type": "text"
      },
      "source": [
        "2. Create a function that asks for a radius of a circle and outputs the area of the circle. Use the math module in solving this problem. \n",
        "\n",
        "Hint:\n",
        "* You can get pi from the math module\n",
        "* area = pi * r * r\n",
        "\n",
        "Example:\n",
        "* Output: What is the radius?\n",
        "* Input: 3\n",
        "* Output: The area of the circle is 28.274333882308138"
      ]
    },
    {
      "cell_type": "code",
      "metadata": {
        "id": "TF_WMdUCxYlP",
        "colab_type": "code",
        "colab": {}
      },
      "source": [
        ""
      ],
      "execution_count": null,
      "outputs": []
    }
  ]
}